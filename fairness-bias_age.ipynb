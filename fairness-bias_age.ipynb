{
 "cells": [
  {
   "cell_type": "markdown",
   "id": "8ca64366-3cb3-472c-9bb7-d3a1cd9f62c6",
   "metadata": {},
   "source": [
    "### Sensitive Attribute (z) is age.\n",
    "\n",
    "We chose age as our sensitive attribute because age is a legally protected characteristic and it often correlates with differing financial behaviors and needs. For example, younger individuals typically require more liquidity and are less likely to commit to long-term savings products like bank term deposits due to their dynamic financial circumstances and greater likelihood of needing immediate access to cash. On the other hand, older individuals often have more financial stability and may be more inclined to lock in funds for a higher return. This naturally creates a potential for unfairness where models trained on historical data might inadvertently favor older clients while neglecting younger ones—even if the underlying behavior differences are statistically true on average. By focusing on age, we can analyze and quantify these disparities (e.g., through differences in true positive rates) and then apply fairness interventions to ensure that the model does not systematically disadvantage younger clients, making our results both interesting and practically relevant."
   ]
  },
  {
   "cell_type": "markdown",
   "id": "aee26f4c-072f-406b-9751-25aa10e7e896",
   "metadata": {},
   "source": [
    "### Fairness Metric - TPR\n",
    "We chose the true positive rate (TPR) difference as our primary fairness metric because it directly measures the model's ability to correctly identify positive cases (i.e., clients who subscribe to a term deposit) across different groups. In our context, ensuring that the TPR is similar for both the protected group (e.g., older clients, age ≥ 40) and the unprotected group (younger clients, age < 40) is critical for guaranteeing equal opportunity. A low TPR difference indicates that clients with a genuine likelihood to subscribe are equally recognized by the model, regardless of their age. This metric is particularly relevant because misclassifying a true positive (especially for a group that might already be under-targeted) can lead to missed opportunities and potential discrimination. Using TPR difference allows us to quantify fairness in a way that aligns with both legal and ethical standards while directly addressing the core objective of our predictive task.\n",
    "\n",
    "Misclassifying a client who is likely to subscribe (a false negative) can mean denying a beneficial financial product to that individual, which is especially problematic if it happens disproportionately for one age group. By focusing on the TPR, we ensure that both older (protected) and younger (unprotected) clients who are truly eligible for the product are equally likely to be identified by the model. This is legally and ethically relevant, as it prevents systematic underrepresentation of any group. Our argument emphasizes that, given the potential consequences for customer access and fairness in financial services, using TPR difference as our fairness metric is not only justified but essential for the responsible deployment of the predictive model."
   ]
  },
  {
   "cell_type": "markdown",
   "id": "733eec9c-0572-4b34-9ac1-c43a48c3fcdd",
   "metadata": {},
   "source": [
    "### Data Preparation + Base Model\n",
    "\n",
    "We import the necessary libraries (pandas, NumPy, scikit-learn, etc.) and define a helper function for calculating the True Positive Rate (TPR). We created a baseline model—a RandomForestClassifier with certain hyperparameters—and a feature extraction function (p1feat) that transforms each data row into a numeric feature vector. In this feature extraction, a boolean “z” is appended to the numeric features to mark whether a client is “older” (age ≥ 40) or not.\n",
    "\n",
    "Our code then loads the bank-additional-full.csv dataset and converts the “y” column to a binary label indicating whether a client subscribed to a term deposit, and then creates the sensitive attribute z based on age (True if age ≥ 40). The data is split into training and test sets, preserving label distribution via stratification. Finally, create tuples of (features, z, label) for each row in the training and test DataFrames. The test data is converted into arrays (X_test_p1, y_test, and z_test) using the p1feat function so that the model can later be trained and evaluated on how well it predicts subscriptions while tracking potential fairness concerns regarding age."
   ]
  },
  {
   "cell_type": "code",
   "execution_count": 1,
   "id": "74b57aa0-dbd6-4404-b873-e04899e21082",
   "metadata": {},
   "outputs": [],
   "source": [
    "import pandas as pd\n",
    "import numpy as np\n",
    "from sklearn.model_selection import train_test_split\n",
    "from sklearn.ensemble import RandomForestClassifier\n",
    "from sklearn.metrics import confusion_matrix, accuracy_score\n",
    "from sklearn.utils import resample\n",
    "import matplotlib.pyplot as plt\n",
    "\n",
    "#######################################\n",
    "# HELPER: True Positive Rate Function #\n",
    "#######################################\n",
    "def tpr(y_true, y_pred):\n",
    "    tn, fp, fn, tp = confusion_matrix(y_true, y_pred).ravel()\n",
    "    return tp / float(tp + fn) if (tp + fn) != 0 else 0.0\n",
    "\n",
    "def p1model():\n",
    "    return RandomForestClassifier(\n",
    "        n_estimators=300, \n",
    "        max_depth=10, \n",
    "        min_samples_leaf=20, \n",
    "        class_weight=\"balanced\", \n",
    "        random_state=42\n",
    "    )\n",
    "\n",
    "def p1feat(d, z):\n",
    "    numeric_keys = [\n",
    "        'age', \n",
    "        'campaign', \n",
    "        'pdays', \n",
    "        'previous', \n",
    "        'emp.var.rate',\n",
    "        'cons.price.idx',\n",
    "        'cons.conf.idx',\n",
    "        'euribor3m',\n",
    "        'nr.employed'\n",
    "    ]\n",
    "    features = [float(d.get(key, 0)) for key in numeric_keys]\n",
    "    # Optionally include the sensitive attribute (age indicator) as a feature.\n",
    "    # Here, z is expected to be True if age >= 40, False otherwise.\n",
    "    features.append(1.0 if z else 0.0)\n",
    "    return features\n",
    "\n",
    "\n",
    "#########################################\n",
    "# Main Execution: Loading Data and Running Models\n",
    "#########################################\n",
    "if __name__ == \"__main__\":\n",
    "    # 1. Load dataset\n",
    "    df = pd.read_csv(\"bank-additional-full.csv\", sep=';')\n",
    "    \n",
    "    # 2. Create the binary target label from \"y\"\n",
    "    df['label'] = df['y'].map({'yes': 1, 'no': 0})\n",
    "    \n",
    "    # 3. Define the sensitive attribute using age:\n",
    "    df['z'] = df['age'].apply(lambda x: True if x >= 40 else False)\n",
    "\n",
    "    # 4. Split data into train and test sets\n",
    "    train_df, test_df = train_test_split(df, test_size=0.2, stratify=df['label'], random_state=42)\n",
    "    \n",
    "    # 5. Convert DataFrame rows into tuples: (feature_dict, sensitive attribute, label)\n",
    "    def row_to_tuple(row):\n",
    "        features = {\n",
    "            'age': row['age'],\n",
    "            'campaign': row['campaign'],\n",
    "            'pdays': row['pdays'],\n",
    "            'previous': row['previous'],\n",
    "            'emp.var.rate': row['emp.var.rate'],\n",
    "            'cons.price.idx': row['cons.price.idx'],\n",
    "            'cons.conf.idx': row['cons.conf.idx'],\n",
    "            'euribor3m': row['euribor3m'],\n",
    "            'nr.employed': row['nr.employed']\n",
    "        }\n",
    "        return (features, row['z'], row['label'])\n",
    "    \n",
    "    train_data = [row_to_tuple(r) for _, r in train_df.iterrows()]\n",
    "    test_data  = [row_to_tuple(r) for _, r in test_df.iterrows()]\n",
    "    \n",
    "    # Prepare test data arrays using baseline feature extraction (p1feat)\n",
    "    X_test_p1 = [p1feat(d, z) for (d, z, _) in test_data]\n",
    "    y_test = [lbl for (_, _, lbl) in test_data]\n",
    "    z_test = [z for (_, z, _) in test_data]"
   ]
  },
  {
   "cell_type": "markdown",
   "id": "0a2d2698-4071-4e72-a3ea-a5f13265963d",
   "metadata": {},
   "source": [
    "### Reasoning - Why we chose 'age'\n",
    "\n",
    "From the bar chart, we can see that the Younger category (clients under 40) is somewhat larger than the Older category (clients 40 or above). Specifically, there appear to be around 22,000 Younger clients versus roughly 19,000 Older clients in the dataset. Although the split isn’t extremely imbalanced, the difference is notable enough that a model trained on this data might learn age-dependent patterns—particularly if older individuals also tend to exhibit different term-deposit subscription behaviors. This distribution helps explain why age can serve as a meaningful sensitive attribute in fairness analyses: there is a sizable portion of clients in both age brackets, yet any model bias toward one group or the other could manifest in observable disparities, such as a gap in true positive rates or overall accuracy."
   ]
  },
  {
   "cell_type": "code",
   "execution_count": 2,
   "id": "ab77cbeb-1716-426b-8a54-3794e37d0ee9",
   "metadata": {},
   "outputs": [
    {
     "data": {
      "image/png": "[encoded data removed]",
      "text/plain": [
       "<Figure size 800x600 with 1 Axes>"
      ]
     },
     "metadata": {},
     "output_type": "display_data"
    }
   ],
   "source": [
    "df['age_group'] = df['age'].apply(lambda x: 'Older' if x >= 40 else 'Younger')\n",
    "age_counts = df['age_group'].value_counts()\n",
    "    \n",
    "plt.figure(figsize=(8,6))\n",
    "plt.bar(age_counts.index, age_counts.values, color=['skyblue', 'salmon'])\n",
    "plt.title(\"Distribution of Age Groups (Older: Age >= 40, Younger: Age < 40)\")\n",
    "plt.xlabel(\"Age Group\")\n",
    "plt.ylabel(\"Number of Clients\")\n",
    "plt.show()"
   ]
  },
  {
   "cell_type": "markdown",
   "id": "a61f9463-7884-4c5a-b7be-08833ed4f840",
   "metadata": {},
   "source": [
    "### Baseline Model - Code\n",
    "\n",
    "In this snippet, we first create a baseline Random Forest model (clf_baseline) and train it on the extracted features (X_train_p1) and labels (y_train) from the training data. The code then makes predictions (y_pred_baseline) on the test set (X_test_p1) and computes overall accuracy. Next, it calculates the True Positive Rate (TPR) separately for the protected group—clients aged 40 or older—and for the unprotected group—clients under 40. TPR measures how often the model correctly identifies actual positives (i.e., clients who truly subscribed) within each subgroup. Finally, it reports the absolute difference between these TPR values. \n",
    "\n",
    "### Baseline Model - Results\n",
    "\n",
    "The results show an accuracy of 0.853, indicating that the model correctly classifies about 85.3% of test samples. The protected group’s TPR is 0.661, while the unprotected group’s TPR is 0.634, producing a TPR gap of 0.027. In other words, older clients (age ≥ 40) are caught as “true positives” roughly 2.7 percentage points more often than younger clients, suggesting a modest age-related disparity in the baseline model’s predictions. \n",
    "\n",
    "In our baseline model, we observed an overall accuracy of 85.3%, with a True Positive Rate (TPR) of 66.1% for the older group (age ≥ 40) and 63.4% for the younger group (age < 40), resulting in a TPR gap of 2.7 percentage points. This gap indicates that our model is slightly more effective at correctly identifying positive cases (term deposit subscriptions) among older clients compared to younger ones. Some of this disparity can be explained by the inherent characteristics of the dataset—if older individuals indeed have a higher propensity to subscribe based on historical behavior, the dataset will naturally reflect that trend. However, even if the trend is real, age is a legally protected attribute, and any systematic difference in model performance that favors one age group over another can be viewed as unfair. In our case, the 2.7% gap suggests that while a part of the unfairness may stem from genuine differences in financial behavior between age groups, there remains an element of bias that could disadvantage younger clients. This justifies the need for further fairness interventions to ensure that the model’s predictions do not disproportionately favor one group solely due to their age."
   ]
  },
  {
   "cell_type": "code",
   "execution_count": 3,
   "id": "6239c660-e326-4c47-9263-19e2319b2e1d",
   "metadata": {},
   "outputs": [
    {
     "name": "stdout",
     "output_type": "stream",
     "text": [
      "=== Baseline Model ===\n",
      "Accuracy: 0.853\n",
      "TPR (Protected - Older, age>=40): 0.661\n",
      "TPR (Unprotected - Younger, age<40): 0.634\n",
      "TPR Difference: 0.027\n"
     ]
    }
   ],
   "source": [
    "##############################\n",
    "# Baseline Model Evaluation\n",
    "##############################\n",
    "clf_baseline = p1model()\n",
    "X_train_p1 = [p1feat(d, z) for (d, z, _) in train_data]\n",
    "y_train = [lbl for (_, _, lbl) in train_data]\n",
    "clf_baseline.fit(X_train_p1, y_train)\n",
    "y_pred_baseline = clf_baseline.predict(X_test_p1)\n",
    "\n",
    "acc_baseline = accuracy_score(y_test, y_pred_baseline)\n",
    "tpr_prot_base = tpr([y_test[i] for i, z in enumerate(z_test) if z],\n",
    "                    [y_pred_baseline[i] for i, z in enumerate(z_test) if z])\n",
    "tpr_unprot_base = tpr([y_test[i] for i, z in enumerate(z_test) if not z],\n",
    "                      [y_pred_baseline[i] for i, z in enumerate(z_test) if not z])\n",
    "diff_baseline = abs(tpr_prot_base - tpr_unprot_base)\n",
    "\n",
    "print(\"=== Baseline Model ===\")\n",
    "print(f\"Accuracy: {acc_baseline:.3f}\")\n",
    "print(f\"TPR (Protected - Older, age>=40): {tpr_prot_base:.3f}\")\n",
    "print(f\"TPR (Unprotected - Younger, age<40): {tpr_unprot_base:.3f}\")\n",
    "print(f\"TPR Difference: {diff_baseline:.3f}\")\n"
   ]
  },
  {
   "cell_type": "markdown",
   "id": "125cb902-401e-4f99-af03-bccb3cb72164",
   "metadata": {},
   "source": [
    "### Dataset-Based Intervenction - Code\n",
    "\n",
    "This code implements a dataset-based intervention aimed at mitigating potential bias by rebalancing the training data across sensitive groups and outcomes. First, it organizes the data into four groups based on the sensitive attribute z (for example, age-based: True if age ≥ 40, False otherwise) and the binary label (0 or 1). It then determines the target count for each subgroup by taking the minimum counts among negatives and positives across the sensitive groups. For each group, if there are fewer positive or negative examples than the target, the code oversamples those examples using resampling with replacement; if there are too many, it undersamples them without replacement. Finally, the balanced subgroups are combined into one dataset that aims to equalize the distribution of labels across the sensitive attribute. The accompanying p2model() function simply returns the baseline Random Forest model, which will then be trained on this rebalanced data, potentially reducing any unfairness that may have been introduced by imbalanced training examples."
   ]
  },
  {
   "cell_type": "code",
   "execution_count": 4,
   "id": "37061801-5b27-4457-8276-46aa8fb3412b",
   "metadata": {},
   "outputs": [],
   "source": [
    "#########################################\n",
    "# 2. Dataset-Based Intervention (p2)\n",
    "#########################################\n",
    "def p2data(data, boost_factor=1.3):\n",
    "    # Organize the data by sensitive attribute and label\n",
    "    group_counts = { True: {0: [], 1: []}, False: {0: [], 1: []} }\n",
    "    for d, z, lbl in data:\n",
    "        group_counts[z][lbl].append((d, z, lbl))\n",
    "    \n",
    "    # Identify target counts to balance negatives and positives\n",
    "    target_neg = min(len(group_counts[True][0]), len(group_counts[False][0]))\n",
    "    base_pos = min(len(group_counts[True][1]), len(group_counts[False][1]))\n",
    "    \n",
    "    # Resample positives and negatives for each group\n",
    "    for z_val in [True, False]:\n",
    "        current_pos = len(group_counts[z_val][1])\n",
    "        target_pos = int(base_pos * boost_factor) if z_val is True else base_pos\n",
    "        if current_pos < target_pos:\n",
    "            group_counts[z_val][1] = resample(\n",
    "                group_counts[z_val][1],\n",
    "                replace=True,\n",
    "                n_samples=target_pos,\n",
    "                random_state=42\n",
    "            )\n",
    "        elif current_pos > target_pos:\n",
    "            group_counts[z_val][1] = resample(\n",
    "                group_counts[z_val][1],\n",
    "                replace=False,\n",
    "                n_samples=target_pos,\n",
    "                random_state=42\n",
    "            )\n",
    "        current_neg = len(group_counts[z_val][0])\n",
    "        if current_neg < target_neg:\n",
    "            group_counts[z_val][0] = resample(\n",
    "                group_counts[z_val][0],\n",
    "                replace=True,\n",
    "                n_samples=target_neg,\n",
    "                random_state=42\n",
    "            )\n",
    "        elif current_neg > target_neg:\n",
    "            group_counts[z_val][0] = resample(\n",
    "                group_counts[z_val][0],\n",
    "                replace=False,\n",
    "                n_samples=target_neg,\n",
    "                random_state=42\n",
    "            )\n",
    "    \n",
    "    # Combine all groups\n",
    "    balanced_data = (group_counts[True][0] + group_counts[False][0] +\n",
    "                     group_counts[True][1] + group_counts[False][1])\n",
    "    return balanced_data\n",
    "\n",
    "def p2model():\n",
    "    # For dataset-based, we can use the same model as the baseline.\n",
    "    return p1model()"
   ]
  },
  {
   "cell_type": "markdown",
   "id": "a2055a2d-cbd1-4704-bc09-082aa1acddf7",
   "metadata": {},
   "source": [
    "### Dataset-Based Intervention - Results\n",
    "#### Answers: How much can “unfairness” in your predictions be explained by dataset haracteristics? Can you fix them with dataset-based interventions?\n",
    "\n",
    "The dataset-based intervention was designed to rebalance the training data across the sensitive groups (in this case, based on age) so that the model would have a more equal representation of positive and negative outcomes from both older (protected, age ≥ 40) and younger (unprotected, age < 40) clients. In our results, we observe that the overall accuracy increased slightly to 85.8%. However, the intervention resulted in a True Positive Rate (TPR) of 66.8% for older clients and 61.5% for younger clients, leading to a TPR difference of 5.4 percentage points.\n",
    "\n",
    "While the idea behind dataset-based interventions is to reduce unfairness caused by imbalances in the training data, our results suggest that, in this instance, the intervention actually increased the gap between the groups. This could indicate that the rebalancing process overcorrected for the underrepresented outcomes or that the underlying dataset characteristics (such as the natural differences in subscription behavior between age groups) are too strong to be fully mitigated by a simple resampling strategy. In other words, although part of the unfairness might be explained by dataset characteristics, our current dataset-based intervention did not fix the unfairness—instead, it amplified the disparity in TPR between the older and younger groups. This result suggests that additional tuning or alternative fairness interventions (such as model-based or post-processing methods) might be needed to achieve a more balanced outcome."
   ]
  },
  {
   "cell_type": "code",
   "execution_count": 5,
   "id": "d57bc6b2-613d-42cb-b69a-3d8c840ad190",
   "metadata": {},
   "outputs": [
    {
     "name": "stdout",
     "output_type": "stream",
     "text": [
      "\n",
      "=== Dataset-Based Intervention ===\n",
      "Accuracy: 0.858\n",
      "TPR (Protected): 0.668\n",
      "TPR (Unprotected): 0.615\n",
      "TPR Difference: 0.054\n"
     ]
    }
   ],
   "source": [
    "    ###########################################\n",
    "    # Dataset-Based Intervention Evaluation (p2)\n",
    "    ###########################################\n",
    "    balanced_data = p2data(train_data, boost_factor=1.3)\n",
    "    clf_p2 = p2model()\n",
    "    X_train_p2 = [p1feat(d, z) for (d, z, _) in balanced_data]\n",
    "    y_train_p2 = [lbl for (_, _, lbl) in balanced_data]\n",
    "    clf_p2.fit(X_train_p2, y_train_p2)\n",
    "    y_pred_p2 = clf_p2.predict(X_test_p1)\n",
    "    \n",
    "    acc_p2 = accuracy_score(y_test, y_pred_p2)\n",
    "    tpr_prot_p2 = tpr([y_test[i] for i, z in enumerate(z_test) if z],\n",
    "                      [y_pred_p2[i] for i, z in enumerate(z_test) if z])\n",
    "    tpr_unprot_p2 = tpr([y_test[i] for i, z in enumerate(z_test) if not z],\n",
    "                        [y_pred_p2[i] for i, z in enumerate(z_test) if not z])\n",
    "    diff_p2 = abs(tpr_prot_p2 - tpr_unprot_p2)\n",
    "    \n",
    "    print(\"\\n=== Dataset-Based Intervention ===\")\n",
    "    print(f\"Accuracy: {acc_p2:.3f}\")\n",
    "    print(f\"TPR (Protected): {tpr_prot_p2:.3f}\")\n",
    "    print(f\"TPR (Unprotected): {tpr_unprot_p2:.3f}\")\n",
    "    print(f\"TPR Difference: {diff_p2:.3f}\")"
   ]
  },
  {
   "cell_type": "markdown",
   "id": "6846843c-86ac-4054-93f1-5e8305685377",
   "metadata": {},
   "source": [
    "### Model-Based (In-processing) Intervention - Code\n",
    "\n",
    "This code implements a model-based (in-processing) fairness intervention that adjusts the training process by assigning different weights to each sample based on its group frequency. The function p3feat(d) extracts a fixed set of numeric features from a dictionary representing a data sample (including fields like age, campaign, pdays, and so on), converting them into a list of floating-point numbers. In the p3model(data) function, the code first computes the frequency of each combination of sensitive attribute (here, age-based, with the sensitive attribute z being either True or False) and binary label (0 or 1). It then calculates the probability for each group by dividing the group count by the total number of samples. For each sample, the code assigns a weight that is the inverse of the corresponding group probability raised to a power (alpha), where a higher alpha value (taken from the alpha_adjustments dictionary for certain groups) increases the weight for underrepresented groups. These weights are clamped to lie between 1 and 100 to avoid extreme values. Finally, the function trains a Random Forest classifier using these computed sample weights, effectively forcing the model to pay more attention to samples from groups that are underrepresented or more likely to be misclassified. The resulting model is then returned, incorporating fairness considerations directly into its training process."
   ]
  },
  {
   "cell_type": "code",
   "execution_count": 6,
   "id": "04fb9fef-fe9b-4b51-915e-0eb69fd7a5a1",
   "metadata": {},
   "outputs": [],
   "source": [
    "#########################################\n",
    "# 3. Model-Based (In-Processing) Intervention (p3)\n",
    "#########################################\n",
    "def p3feat(d):\n",
    "    numeric_keys = [\n",
    "        'age', \n",
    "        'campaign', \n",
    "        'pdays', \n",
    "        'previous', \n",
    "        'emp.var.rate',\n",
    "        'cons.price.idx',\n",
    "        'cons.conf.idx',\n",
    "        'euribor3m',\n",
    "        'nr.employed'\n",
    "    ]\n",
    "    return [float(d.get(key, 0)) for key in numeric_keys]\n",
    "\n",
    "def p3model(data):\n",
    "    # Compute the distribution of (sensitive, label) combinations\n",
    "    group_counts = { (False, 0): 0, (False, 1): 0, (True, 0): 0, (True, 1): 0 }\n",
    "    for d, z, lbl in data:\n",
    "        group_counts[(z, lbl)] += 1\n",
    "    total = len(data)\n",
    "    group_probs = { g: float(count) / total for g, count in group_counts.items() }\n",
    "    \n",
    "    base_alpha = 1.2\n",
    "    alpha_adjustments = { (True, 1): 1.5, (True, 0): 1.3 }\n",
    "    \n",
    "    X, y_labels, sample_weights = [], [], []\n",
    "    for d, z, lbl in data:\n",
    "        X.append(p3feat(d))\n",
    "        y_labels.append(lbl)\n",
    "        alpha = alpha_adjustments.get((z, lbl), base_alpha)\n",
    "        w = 1.0 / (group_probs[(z, lbl)] ** alpha)\n",
    "        w = min(w, 100.0)\n",
    "        w = max(w, 1.0)\n",
    "        sample_weights.append(w)\n",
    "    \n",
    "    model = RandomForestClassifier(\n",
    "        n_estimators=300, \n",
    "        max_depth=10, \n",
    "        min_samples_leaf=20, \n",
    "        class_weight=None, \n",
    "        random_state=42\n",
    "    )\n",
    "    model.fit(X, y_labels, sample_weight=sample_weights)\n",
    "    return model"
   ]
  },
  {
   "cell_type": "markdown",
   "id": "37a36685-f817-4c5a-9d88-8874b369e84e",
   "metadata": {},
   "source": [
    "### Model-Based (In-processing) Intervention - Results\n",
    "#### Answers: How do different modeling choices impact fairness characteristics? Can you fix them with in-processing interventions?\n",
    "\n",
    "In our model-based intervention, we adjusted the training process by assigning different sample weights based on the group frequency of each (sensitive, label) combination. The goal was to force the model to pay more attention to underrepresented groups in the training data, ideally reducing unfairness. However, the results show that while the protected group (clients aged 40 or older) achieved a very high TPR of 0.878, the unprotected group (clients under 40) only reached a TPR of 0.698—a gap of 18 percentage points. Additionally, overall accuracy dropped to 63.3%. This indicates that the in-processing intervention, as currently configured, has not fixed the unfairness; in fact, it appears to have exacerbated the disparity between the groups. The weighting strategy may be overcompensating for the protected group, leading to a model that over-predicts positives for older clients while under-predicting for younger ones. Thus, while different modeling choices such as sample reweighting can have a direct impact on fairness metrics, achieving a balanced performance requires careful tuning of the in-processing method to avoid a significant drop in overall accuracy and an increased TPR gap."
   ]
  },
  {
   "cell_type": "code",
   "execution_count": 7,
   "id": "143bec78-8519-4432-868b-a63e60200314",
   "metadata": {},
   "outputs": [
    {
     "name": "stdout",
     "output_type": "stream",
     "text": [
      "\n",
      "=== Model-Based (In-Processing) Intervention ===\n",
      "Accuracy: 0.633\n",
      "TPR (Protected): 0.878\n",
      "TPR (Unprotected): 0.698\n",
      "TPR Difference: 0.180\n"
     ]
    }
   ],
   "source": [
    "    ###########################################\n",
    "    # Model-Based (In-Processing) Intervention Evaluation (p3)\n",
    "    ###########################################\n",
    "    clf_p3 = p3model(train_data)\n",
    "    X_test_p3 = [p3feat(d) for (d, z, _) in test_data]\n",
    "    y_pred_p3 = clf_p3.predict(X_test_p3)\n",
    "    \n",
    "    acc_p3 = accuracy_score(y_test, y_pred_p3)\n",
    "    tpr_prot_p3 = tpr([y_test[i] for i, z in enumerate(z_test) if z],\n",
    "                      [y_pred_p3[i] for i, z in enumerate(z_test) if z])\n",
    "    tpr_unprot_p3 = tpr([y_test[i] for i, z in enumerate(z_test) if not z],\n",
    "                        [y_pred_p3[i] for i, z in enumerate(z_test) if not z])\n",
    "    diff_p3 = abs(tpr_prot_p3 - tpr_unprot_p3)\n",
    "    \n",
    "    print(\"\\n=== Model-Based (In-Processing) Intervention ===\")\n",
    "    print(f\"Accuracy: {acc_p3:.3f}\")\n",
    "    print(f\"TPR (Protected): {tpr_prot_p3:.3f}\")\n",
    "    print(f\"TPR (Unprotected): {tpr_unprot_p3:.3f}\")\n",
    "    print(f\"TPR Difference: {diff_p3:.3f}\")"
   ]
  },
  {
   "cell_type": "markdown",
   "id": "b7167d29-8993-47ef-b915-2df8539dc860",
   "metadata": {},
   "source": [
    "### Post-Processing Intervention - Code\n",
    "This function below implements a post-processing intervention that adjusts the final binary predictions by applying different decision thresholds to each sensitive group. First, it converts the test scores and sensitive attribute array into NumPy arrays. Then, it partitions the test scores into two groups—one for samples where the sensitive attribute is False (for example, \"younger\") and another where it is True (for example, \"older\"). For each group, the function computes the 50th percentile (median) of the scores, which serves as a threshold. Finally, for each test sample, if its score exceeds the threshold corresponding to its group, it is assigned a positive prediction (1); otherwise, a negative prediction (0). This method aims to mitigate fairness issues by adjusting the decision boundary separately for each group, so that any imbalance in score distributions is addressed in the final output."
   ]
  },
  {
   "cell_type": "code",
   "execution_count": 8,
   "id": "07f7624f-f35a-4747-85a7-419fde83297c",
   "metadata": {},
   "outputs": [],
   "source": [
    "#########################################\n",
    "# 4. Post-Processing Intervention (p4)\n",
    "#########################################\n",
    "def p4labels(test_scores, zTest):\n",
    "    test_scores = np.array(test_scores)\n",
    "    zTest = np.array(zTest)\n",
    "    \n",
    "    # Partition scores by group\n",
    "    scores_group0 = test_scores[zTest == False]\n",
    "    scores_group1 = test_scores[zTest == True]\n",
    "    \n",
    "    # Define group-specific thresholds based on the 50th percentile\n",
    "    thr0 = np.percentile(scores_group0, 50)\n",
    "    thr1 = np.percentile(scores_group1, 50)\n",
    "    \n",
    "    preds = []\n",
    "    for s, z in zip(test_scores, zTest):\n",
    "        preds.append(1 if s > (thr1 if z else thr0) else 0)\n",
    "    return preds"
   ]
  },
  {
   "cell_type": "markdown",
   "id": "91726776-9899-4aff-835d-0f4fd49ee44b",
   "metadata": {},
   "source": [
    "### Post-Processing Intervention - Results\n",
    "#### Can you apply post-processing interventions to achieve desired fairness outcomes?\n",
    "\n",
    "The post-processing intervention code works by adjusting the decision thresholds separately for each group based on the median of the model’s predicted scores. In our results, after applying this intervention, the overall accuracy dropped to 57.5%, but the True Positive Rates (TPRs) for the protected group (older clients) and unprotected group (younger clients) became 83.8% and 82.2%, respectively—a TPR difference of only 1.6 percentage points. This demonstrates that post-processing can be effective in achieving a more balanced outcome across groups by fine-tuning the threshold for each group independently. However, while this method nearly equalizes the TPRs and thus significantly improves fairness in that metric, it comes with the trade-off of a substantial overall accuracy loss compared to the baseline model. In summary, post-processing interventions can indeed be applied to achieve desired fairness outcomes, but careful consideration must be given to the resulting trade-offs between fairness and overall model performance."
   ]
  },
  {
   "cell_type": "code",
   "execution_count": 9,
   "id": "0b3068a2-6452-49bc-b912-4ed3120ca4c5",
   "metadata": {},
   "outputs": [
    {
     "name": "stdout",
     "output_type": "stream",
     "text": [
      "\n",
      "=== Post-Processing Intervention ===\n",
      "Accuracy: 0.575\n",
      "TPR (Protected): 0.838\n",
      "TPR (Unprotected): 0.822\n",
      "TPR Difference: 0.016\n"
     ]
    }
   ],
   "source": [
    "    ###########################################\n",
    "    # Post-Processing Intervention Evaluation (p4)\n",
    "    ###########################################\n",
    "    test_scores = clf_baseline.predict_proba(X_test_p1)[:, 1]\n",
    "    y_pred_p4 = p4labels(test_scores, z_test)\n",
    "    \n",
    "    acc_p4 = accuracy_score(y_test, y_pred_p4)\n",
    "    tpr_prot_p4 = tpr([y_test[i] for i, z in enumerate(z_test) if z],\n",
    "                      [y_pred_p4[i] for i, z in enumerate(z_test) if z])\n",
    "    tpr_unprot_p4 = tpr([y_test[i] for i, z in enumerate(z_test) if not z],\n",
    "                        [y_pred_p4[i] for i, z in enumerate(z_test) if not z])\n",
    "    diff_p4 = abs(tpr_prot_p4 - tpr_unprot_p4)\n",
    "    \n",
    "    print(\"\\n=== Post-Processing Intervention ===\")\n",
    "    print(f\"Accuracy: {acc_p4:.3f}\")\n",
    "    print(f\"TPR (Protected): {tpr_prot_p4:.3f}\")\n",
    "    print(f\"TPR (Unprotected): {tpr_unprot_p4:.3f}\")\n",
    "    print(f\"TPR Difference: {diff_p4:.3f}\")"
   ]
  },
  {
   "cell_type": "markdown",
   "id": "f9359e30-4a19-4a14-a380-b3ecaba45744",
   "metadata": {},
   "source": [
    "### Discussion\n",
    "#### Answers: What types of interventions are most appropriate for your task (e.g. legal, practical to deploy, etc.)? What are the tradeoffs between them (e.g. how are other metrics negatively impacted by a particular intervention, etc.)\n",
    "\n",
    "The choice of fairness intervention depends heavily on the context and priorities of the task—in our case, predicting whether a client will subscribe to a bank term deposit while ensuring equitable treatment across age groups. Our experiments show that different methods yield very different trade-offs. For instance, the dataset-based intervention, which involves resampling to rebalance the distribution of positives and negatives across age groups, resulted in an overall accuracy of 85.8% but produced a true positive rate (TPR) of 66.8% for the older group (age ≥ 40) versus 61.5% for the younger group (age < 40), with a TPR difference of 5.4 percentage points. While this method is generally practical and easy to deploy—since it only requires manipulating the training data—it did not fully mitigate unfairness in our case; in fact, the gap widened compared to the baseline. This suggests that dataset-based interventions can sometimes be limited by the inherent behavior patterns captured in the data.\n",
    "\n",
    "In contrast, our model-based (in-processing) intervention, which adjusts sample weights during training based on the frequency of (sensitive, label) combinations, resulted in a dramatic drop in overall accuracy to 63.3% and an even larger TPR disparity (18 percentage points). Although in-processing methods have the theoretical advantage of incorporating fairness constraints directly into the training algorithm, they require careful tuning; otherwise, they may overcompensate for one group at the expense of overall performance. This accuracy loss and amplified gap indicate that without precise calibration, in-processing interventions might negatively impact other performance metrics and are less practical for production systems that need high overall accuracy.\n",
    "\n",
    "On the other hand, the post-processing intervention, which applies group-specific thresholds after model prediction, managed to reduce the TPR gap to just 1.6 percentage points, with TPRs of 83.8% and 82.2% for the older and younger groups respectively. However, this came at the cost of a significant decrease in overall accuracy (57.5%). While post-processing is relatively straightforward to implement—since it does not require retraining the model and can be applied as a “bolt-on” adjustment—its severe impact on accuracy and potentially on other metrics (like precision or false positive rate) raises concerns. Moreover, deploying different thresholds for different groups might raise legal or ethical questions in some contexts.\n",
    "\n",
    "In summary, each intervention carries its own set of trade-offs. The dataset-based approach is the most practical to deploy and does not require changing the model architecture, but its effectiveness depends on the underlying data distribution and may not always reduce unfairness. In-processing methods directly target model training but can cause substantial drops in overall performance if not tuned correctly. Post-processing techniques offer a quick fix for balancing metrics like TPR, yet they might undermine the model’s predictive power and lead to lower accuracy. Ultimately, the most appropriate intervention for our task will depend on the specific legal, operational, and business requirements—balancing the need for fairness with acceptable performance levels across all metrics. \n",
    "\n",
    "Based on our results, the baseline model already performs quite well from both an accuracy and fairness perspective—it achieves 85.3% accuracy with a TPR difference of only 2.7% between the older (protected) and younger (unprotected) groups. Although our dataset-based intervention was designed to rebalance the training data, it actually increased the TPR gap to 5.4% while achieving a similar overall accuracy (85.8%). The model-based intervention further widened the gap (18% difference) and significantly reduced accuracy, while the post-processing intervention nearly equalized TPRs (a 1.6% gap) but at the expense of a dramatic drop in accuracy to 57.5%.\n",
    "\n",
    "Given these trade-offs, the baseline model appears to be the most practical choice—it delivers high accuracy and a relatively minimal TPR difference, which is both legally defensible and operationally effective. In many legal and regulatory environments, a 2.7% disparity may be considered acceptable, especially when it comes with a strong overall performance. Therefore, in this scenario, we would choose not to deploy an additional fairness intervention because the baseline already strikes a good balance between accuracy and fairness.\n",
    "\n",
    "In our case, when fairness interventions such as dataset-based, in-processing, or post-processing adjustments are applied,they resulted in widening the TPR gap or significantly drop overall accuracy with the gap to be lowered, which is not desirable from an operational standpoint. In many real-world applications, especially in regulated financial contexts, a small disparity may be legally acceptable if overall performance remains high. Thus, we conclude that the baseline model naturally strikes a good balance between accuracy and fairness."
   ]
  },
  {
   "cell_type": "code",
   "execution_count": null,
   "id": "9ea869f1-0284-47ee-8faa-be6d6fdd0aeb",
   "metadata": {},
   "outputs": [],
   "source": []
  }
 ],
 "metadata": {
  "kernelspec": {
   "display_name": "Python 3 (ipykernel)",
   "language": "python",
   "name": "python3"
  },
  "language_info": {
   "codemirror_mode": {
    "name": "ipython",
    "version": 3
   },
   "file_extension": ".py",
   "mimetype": "text/x-python",
   "name": "python",
   "nbconvert_exporter": "python",
   "pygments_lexer": "ipython3",
   "version": "3.11.9"
  }
 },
 "nbformat": 4,
 "nbformat_minor": 5
}
